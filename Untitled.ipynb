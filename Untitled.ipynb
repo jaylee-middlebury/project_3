{
 "cells": [
  {
   "cell_type": "code",
   "execution_count": 1,
   "metadata": {},
   "outputs": [],
   "source": [
    "from psaw import PushshiftAPI\n",
    "\n",
    "api = PushshiftAPI()"
   ]
  },
  {
   "cell_type": "code",
   "execution_count": 76,
   "metadata": {},
   "outputs": [],
   "source": [
    "import numpy as np\n",
    "import pandas as pd"
   ]
  },
  {
   "cell_type": "code",
   "execution_count": 13,
   "metadata": {},
   "outputs": [],
   "source": [
    "import datetime as dt\n",
    "\n",
    "start_epoch=int(dt.datetime(2017, 1, 1).timestamp())\n",
    "\n",
    "test = list(api.search_submissions(after=start_epoch,\n",
    "                            subreddit='nosleep',\n",
    "                            #filter=['url','author', 'title', 'subreddit'],\n",
    "                            limit=10))"
   ]
  },
  {
   "cell_type": "code",
   "execution_count": 102,
   "metadata": {},
   "outputs": [
    {
     "ename": "NameError",
     "evalue": "name 'author' is not defined",
     "output_type": "error",
     "traceback": [
      "\u001b[1;31m---------------------------------------------------------------------------\u001b[0m",
      "\u001b[1;31mNameError\u001b[0m                                 Traceback (most recent call last)",
      "\u001b[1;32m<ipython-input-102-57f6c588da89>\u001b[0m in \u001b[0;36m<module>\u001b[1;34m\u001b[0m\n\u001b[1;32m----> 1\u001b[1;33m nosleep_gen = list(api.search_submissions(author != [deleted],\n\u001b[0m\u001b[0;32m      2\u001b[0m                                           \u001b[0msubreddit\u001b[0m\u001b[1;33m=\u001b[0m\u001b[1;34m'nosleep'\u001b[0m\u001b[1;33m,\u001b[0m\u001b[1;33m\u001b[0m\u001b[1;33m\u001b[0m\u001b[0m\n\u001b[0;32m      3\u001b[0m                                           \u001b[0mfilter\u001b[0m\u001b[1;33m=\u001b[0m\u001b[1;33m[\u001b[0m\u001b[1;34m'author'\u001b[0m\u001b[1;33m,\u001b[0m\u001b[1;34m'title'\u001b[0m\u001b[1;33m,\u001b[0m\u001b[1;34m'subreddit'\u001b[0m\u001b[1;33m,\u001b[0m\u001b[1;34m'selftext'\u001b[0m\u001b[1;33m]\u001b[0m\u001b[1;33m,\u001b[0m\u001b[1;33m\u001b[0m\u001b[1;33m\u001b[0m\u001b[0m\n\u001b[0;32m      4\u001b[0m                                           limit=2000))\n",
      "\u001b[1;31mNameError\u001b[0m: name 'author' is not defined"
     ]
    }
   ],
   "source": [
    "nosleep_gen = list(api.search_submissions(author != [deleted],\n",
    "                                          subreddit='nosleep',\n",
    "                                          filter=['author','title','subreddit','selftext'],\n",
    "                                          limit=2000))"
   ]
  },
  {
   "cell_type": "code",
   "execution_count": 86,
   "metadata": {},
   "outputs": [],
   "source": [
    "nosleep_dict = {'author':[],\n",
    "               'title':[],\n",
    "               'selftext':[],\n",
    "               'subreddit':[]}\n",
    "for sub in nosleep_gen:\n",
    "    try:\n",
    "        nosleep_dict['author'].append(sub.author)\n",
    "    except:\n",
    "        nosleep_dict['author'].append('missing')\n",
    "    try:\n",
    "        nosleep_dict['title'].append(sub.title)\n",
    "    except:\n",
    "        nosleep_dict['title'].append('missing')\n",
    "    try:\n",
    "        nosleep_dict['selftext'].append(sub.selftext)\n",
    "    except:\n",
    "        nosleep_dict['selftext'].append('missing')\n",
    "    try:\n",
    "        nosleep_dict['subreddit'].append(sub.subreddit)\n",
    "    except:       \n",
    "        nosleep_dict['subreddit'].append('missing')\n",
    "    "
   ]
  },
  {
   "cell_type": "code",
   "execution_count": 88,
   "metadata": {},
   "outputs": [],
   "source": [
    "df = pd.DataFrame(nosleep_dict)"
   ]
  },
  {
   "cell_type": "code",
   "execution_count": 98,
   "metadata": {},
   "outputs": [
    {
     "data": {
      "text/plain": [
       "author       False\n",
       "title        False\n",
       "selftext      True\n",
       "subreddit    False\n",
       "dtype: bool"
      ]
     },
     "execution_count": 98,
     "metadata": {},
     "output_type": "execute_result"
    }
   ],
   "source": [
    "m = df.isin(['missing']).any()\n",
    "m"
   ]
  },
  {
   "cell_type": "code",
   "execution_count": 112,
   "metadata": {},
   "outputs": [
    {
     "data": {
      "text/html": [
       "<div>\n",
       "<style scoped>\n",
       "    .dataframe tbody tr th:only-of-type {\n",
       "        vertical-align: middle;\n",
       "    }\n",
       "\n",
       "    .dataframe tbody tr th {\n",
       "        vertical-align: top;\n",
       "    }\n",
       "\n",
       "    .dataframe thead th {\n",
       "        text-align: right;\n",
       "    }\n",
       "</style>\n",
       "<table border=\"1\" class=\"dataframe\">\n",
       "  <thead>\n",
       "    <tr style=\"text-align: right;\">\n",
       "      <th></th>\n",
       "      <th>author</th>\n",
       "      <th>title</th>\n",
       "      <th>selftext</th>\n",
       "      <th>subreddit</th>\n",
       "    </tr>\n",
       "  </thead>\n",
       "  <tbody>\n",
       "    <tr>\n",
       "      <th>0</th>\n",
       "      <td>Cprit26</td>\n",
       "      <td>I picked up a dead hitchhiker</td>\n",
       "      <td>Every summer me and my 4 friends Dan, Mike, Ai...</td>\n",
       "      <td>nosleep</td>\n",
       "    </tr>\n",
       "    <tr>\n",
       "      <th>1</th>\n",
       "      <td>Unyielding-Glass</td>\n",
       "      <td>My Brother is Obsessed with Music [Pt2]</td>\n",
       "      <td>[Part 1](https://www.reddit.com/r/nosleep/comm...</td>\n",
       "      <td>nosleep</td>\n",
       "    </tr>\n",
       "    <tr>\n",
       "      <th>2</th>\n",
       "      <td>Unyielding-Glass</td>\n",
       "      <td>My Brother is Obsessed with Music (Pt 2/End)</td>\n",
       "      <td>[Part 1](https://www.reddit.com/r/nosleep/comm...</td>\n",
       "      <td>nosleep</td>\n",
       "    </tr>\n",
       "    <tr>\n",
       "      <th>3</th>\n",
       "      <td>Charlesprathere2</td>\n",
       "      <td>Take A Hike Down Memory Lane</td>\n",
       "      <td>Most people like to relax by sitting by the ...</td>\n",
       "      <td>nosleep</td>\n",
       "    </tr>\n",
       "    <tr>\n",
       "      <th>4</th>\n",
       "      <td>Starla_Starfox</td>\n",
       "      <td>I made a mistake on searching up \"Disneyland d...</td>\n",
       "      <td>Ok... So I was watching an old Reddit video fr...</td>\n",
       "      <td>nosleep</td>\n",
       "    </tr>\n",
       "    <tr>\n",
       "      <th>5</th>\n",
       "      <td>fernwise</td>\n",
       "      <td>Offer some scary stories?</td>\n",
       "      <td>Hey there! I'm starting a YouTube Channel base...</td>\n",
       "      <td>nosleep</td>\n",
       "    </tr>\n",
       "    <tr>\n",
       "      <th>6</th>\n",
       "      <td>throwawaynothingmore</td>\n",
       "      <td>I can't trust anyone anymore.</td>\n",
       "      <td>Disclaimer: If you haven't already, I'd sugges...</td>\n",
       "      <td>nosleep</td>\n",
       "    </tr>\n",
       "    <tr>\n",
       "      <th>7</th>\n",
       "      <td>aidanooooo</td>\n",
       "      <td>My neighbor was a satanist</td>\n",
       "      <td>The sun was just beginning to rise as I woke u...</td>\n",
       "      <td>nosleep</td>\n",
       "    </tr>\n",
       "    <tr>\n",
       "      <th>8</th>\n",
       "      <td>M0mmyNeedsWh1skey</td>\n",
       "      <td>My Life's Motto</td>\n",
       "      <td>\"You'll never be bored when you try something ...</td>\n",
       "      <td>nosleep</td>\n",
       "    </tr>\n",
       "    <tr>\n",
       "      <th>9</th>\n",
       "      <td>dukie8</td>\n",
       "      <td>My Meth Psychosis Story Or Maybe I Saw The Oth...</td>\n",
       "      <td>Im gonna start this off by saying this actuall...</td>\n",
       "      <td>nosleep</td>\n",
       "    </tr>\n",
       "    <tr>\n",
       "      <th>10</th>\n",
       "      <td>Ashwell2421</td>\n",
       "      <td>The Snow</td>\n",
       "      <td>5 years ago my daughter passed away. She was...</td>\n",
       "      <td>nosleep</td>\n",
       "    </tr>\n",
       "    <tr>\n",
       "      <th>11</th>\n",
       "      <td>TurquoiseUmbrella</td>\n",
       "      <td>I saw my deceased classmate recently (Update)</td>\n",
       "      <td>\\n\\n[Part One](https://www.reddit.com/r/nosle...</td>\n",
       "      <td>nosleep</td>\n",
       "    </tr>\n",
       "    <tr>\n",
       "      <th>12</th>\n",
       "      <td>iluvthecreepyshit</td>\n",
       "      <td>My friend was part of a cult and tried to sacr...</td>\n",
       "      <td>My friend Sophia is part of cult and I didn’t ...</td>\n",
       "      <td>nosleep</td>\n",
       "    </tr>\n",
       "    <tr>\n",
       "      <th>13</th>\n",
       "      <td>MarcOxenstierna</td>\n",
       "      <td>The Bedtime Game</td>\n",
       "      <td>It was that time again, sometime around midnig...</td>\n",
       "      <td>nosleep</td>\n",
       "    </tr>\n",
       "    <tr>\n",
       "      <th>14</th>\n",
       "      <td>IncognitoAuthor</td>\n",
       "      <td>Continued</td>\n",
       "      <td>\\tShell casings aside, I had to find shelter. ...</td>\n",
       "      <td>nosleep</td>\n",
       "    </tr>\n",
       "    <tr>\n",
       "      <th>15</th>\n",
       "      <td>TurquoiseUmbrella</td>\n",
       "      <td>I saw my deceased classmate recently (update)</td>\n",
       "      <td>&amp;amp;#x200B;\\n\\n  [Part One](https://www.reddi...</td>\n",
       "      <td>nosleep</td>\n",
       "    </tr>\n",
       "    <tr>\n",
       "      <th>16</th>\n",
       "      <td>MarcOxenstierna</td>\n",
       "      <td>The Bedtime Game</td>\n",
       "      <td>[removed]</td>\n",
       "      <td>nosleep</td>\n",
       "    </tr>\n",
       "    <tr>\n",
       "      <th>17</th>\n",
       "      <td>furrytrashuwu</td>\n",
       "      <td>The second my husband came home..</td>\n",
       "      <td>I wish he hadn't.\\n\\nOur life was normal, unti...</td>\n",
       "      <td>nosleep</td>\n",
       "    </tr>\n",
       "    <tr>\n",
       "      <th>18</th>\n",
       "      <td>CMMuse</td>\n",
       "      <td>Has anyone seen strange things at the Dollar T...</td>\n",
       "      <td>Hi, so if no one knows what i'm speaking about...</td>\n",
       "      <td>nosleep</td>\n",
       "    </tr>\n",
       "    <tr>\n",
       "      <th>19</th>\n",
       "      <td>furrytrashuwu</td>\n",
       "      <td>The second my husband came home....</td>\n",
       "      <td>[removed]</td>\n",
       "      <td>nosleep</td>\n",
       "    </tr>\n",
       "  </tbody>\n",
       "</table>\n",
       "</div>"
      ],
      "text/plain": [
       "                  author                                              title  \\\n",
       "0                Cprit26                      I picked up a dead hitchhiker   \n",
       "1       Unyielding-Glass            My Brother is Obsessed with Music [Pt2]   \n",
       "2       Unyielding-Glass       My Brother is Obsessed with Music (Pt 2/End)   \n",
       "3       Charlesprathere2                       Take A Hike Down Memory Lane   \n",
       "4         Starla_Starfox  I made a mistake on searching up \"Disneyland d...   \n",
       "5               fernwise                          Offer some scary stories?   \n",
       "6   throwawaynothingmore                      I can't trust anyone anymore.   \n",
       "7             aidanooooo                         My neighbor was a satanist   \n",
       "8      M0mmyNeedsWh1skey                                    My Life's Motto   \n",
       "9                 dukie8  My Meth Psychosis Story Or Maybe I Saw The Oth...   \n",
       "10           Ashwell2421                                           The Snow   \n",
       "11     TurquoiseUmbrella      I saw my deceased classmate recently (Update)   \n",
       "12     iluvthecreepyshit  My friend was part of a cult and tried to sacr...   \n",
       "13       MarcOxenstierna                                   The Bedtime Game   \n",
       "14       IncognitoAuthor                                          Continued   \n",
       "15     TurquoiseUmbrella      I saw my deceased classmate recently (update)   \n",
       "16       MarcOxenstierna                                   The Bedtime Game   \n",
       "17         furrytrashuwu                  The second my husband came home..   \n",
       "18                CMMuse  Has anyone seen strange things at the Dollar T...   \n",
       "19         furrytrashuwu                The second my husband came home....   \n",
       "\n",
       "                                             selftext subreddit  \n",
       "0   Every summer me and my 4 friends Dan, Mike, Ai...   nosleep  \n",
       "1   [Part 1](https://www.reddit.com/r/nosleep/comm...   nosleep  \n",
       "2   [Part 1](https://www.reddit.com/r/nosleep/comm...   nosleep  \n",
       "3     Most people like to relax by sitting by the ...   nosleep  \n",
       "4   Ok... So I was watching an old Reddit video fr...   nosleep  \n",
       "5   Hey there! I'm starting a YouTube Channel base...   nosleep  \n",
       "6   Disclaimer: If you haven't already, I'd sugges...   nosleep  \n",
       "7   The sun was just beginning to rise as I woke u...   nosleep  \n",
       "8   \"You'll never be bored when you try something ...   nosleep  \n",
       "9   Im gonna start this off by saying this actuall...   nosleep  \n",
       "10    5 years ago my daughter passed away. She was...   nosleep  \n",
       "11   \\n\\n[Part One](https://www.reddit.com/r/nosle...   nosleep  \n",
       "12  My friend Sophia is part of cult and I didn’t ...   nosleep  \n",
       "13  It was that time again, sometime around midnig...   nosleep  \n",
       "14  \\tShell casings aside, I had to find shelter. ...   nosleep  \n",
       "15  &amp;#x200B;\\n\\n  [Part One](https://www.reddi...   nosleep  \n",
       "16                                          [removed]   nosleep  \n",
       "17  I wish he hadn't.\\n\\nOur life was normal, unti...   nosleep  \n",
       "18  Hi, so if no one knows what i'm speaking about...   nosleep  \n",
       "19                                          [removed]   nosleep  "
      ]
     },
     "execution_count": 112,
     "metadata": {},
     "output_type": "execute_result"
    }
   ],
   "source": [
    "df.head(20)"
   ]
  },
  {
   "cell_type": "code",
   "execution_count": 111,
   "metadata": {},
   "outputs": [
    {
     "data": {
      "text/plain": [
       "'[Part 1](https://www.reddit.com/r/nosleep/comments/byud52/my_brother_is_obsessed_with_music/?utm_source=share&amp;utm_medium=web2x)\\n\\n  \\n\\nJohn filled me. If I was normal, like Mom and Dad, I would be hearing a beautiful piano arrangement. However, that is not what I was hearing, clearly. Instead, I am “blessed” (John’s sentiment, not my own) and am able to hear what he hears. What we don’t understand is why I never shown signs of it before, or why it is only through this particular composer that I can hear the voices of the “Forgotten” as John calls them. Another thing is that we believe I am hearing them far clearer than John ever has. The problem we face now is translating. \\n\\nOne area in this accursed affair is that when John hears the voices, he doesn’t so much as “hear” anything. He just starts knowing things. Like the symbols so carelessly thrown across the room, he didn’t “see” them, and he wasn’t told what they meant. He was just given the knowledge like having a random trivia fact that you can’t place why you know (deer have pencil-like penises. I don’t know why I know this, I just do, and now you do too, much like John just “knows” these symbols.)\\n\\nThis is where a problem occurs between the two of us. He knows the symbols; I know the sounds. I don’t know which symbols go to which sounds and neither does he. So, for us to be on the same page and understand what these “Forgotten” are trying to tell us, we must somehow match the sounds to the shapes like a demented toddler’s toy. What could be so hard in that?\\n\\nOh, sidetracking by falling back here a bit. I didn’t go from not understanding to accepting with the snap of a finger. The conversation to get to this point involved a lot of “what the fucks?” and me storming out of the room and refusing to continue it any further and certain that he was gaslighting me. The two things that broke me out of it were that A) Curiosity. I kept having these “what ifs” gnawing at me. And B) I asked Dad what he thought of John’s music. “It’s alright, yeah” I then asked him what instrument he thought it was because I couldn’t place it. He looked at me funny and said “Well, it’s a piano, Beck,” which he said in a way to suggest it’s actual meaning was “Are you stupid or losing it?” Both really. Anyway, back on with it.\\n\\nJohn has been “talked” to before in which he heard fragments of Their voices, but he couldn’t make out anything from me trying to hum it out.\\n\\n**John**: We are going about this the wrong way. Wait, what’s that movie with that Sherlock guy?\\n\\n**Me**: Iron Man?\\n\\n**John**: The other Sherlock guy. Benedick Bandersnoot or something, the World War two movie?\\n\\n**Me**: With the computer? Oh! I get it, they cracked the code by having a repeating phrase!\\n\\n**John**: Exactly! Maybe we could do the same thing! The symbols, they come to me on a loop and in different frequencies, just like how some words are repeated more than others, so let’s just do this a couple of seconds at a time and try to piece it all out.\\n\\nHe started the song over and began filling out the symbols as they came to him. \\n\\n**John**: Let’s start with these three, could you listen to the same amount of song and try to match a sound to it?\\n\\n**Me**: I suppose so, yeah.\\n\\nThere were sounds that corresponded to the times that he drew the symbols, the problem was I couldn’t make them. I resorted to bastardizing them by grunting as deep in my chest as possible, but not being a trained singer in any capacity meant that I was severely limited. I then bastardized them further and gave them simpler to pronounce variants and hoping that it would result in an “accent” difference. The first three sounds for the first symbols then became “Rah-Ma-Su.” We then skipped around to different tracks from Chopin to see if at any point the same sounds and symbols showed up. They didn’t. We then decided that we should look for a symbol that repeats, then check if the sound repeats before committing to translating. You live and learn, eh?\\n\\nSo, we finally had a small collection of symbols and sounds that matched up in the sense that they appeared to us at the same moments. Together we were slowly piecing together an unknown language, we would be the chosen ones to deliver the message. The problem? Pick a book in a different language right now, say Arabic. Go ahead and read it. The lettering system means nothing to you and even if you had a pronunciation guide, you have no context for the sounds you would be producing mean. We needed a Rosetta Stone. John got smart.\\n\\n**John**: I can “see” the symbols in other songs, not just this. I always ignored them in favor of the raw knowledge, but maybe the symbols line up to words in the song? \\n\\n**Me**: Worth a shot, then I can tell you how to say the symbols now that we cracked that first code. Go for it.\\n\\nAnd go for it he did. He knew what songs to go to and what point in the song the symbol would appear, I’d wager to say that it was the same way he “knew” anything else about Them. His musical odyssey took him from classical rock to alternative from jazz to ska and a bunch of shit I never heard or would be able to identify. The guy knows his music. When the symbols would come to him, I would start transcribing the lyrics that were associated. What we got where about 150 English words to about 80 weird alien ones. The reason being is we weren’t sure if the symbols were for phrases, or single words, or which single words they might be. So, then we double checked and through a second musical odyssey to listen for double ups. \\n\\nNow, with a more refined list, we were ready to go back to Chopin and put everything we learned into it. I wasn’t necessary for this part, or most of them really until it all came together. He was able to lay out the symbols in order and put their English counterparts under them while I put earbuds in and played my own music to get a break from the alien Gibberish. (Only Chopin affected me after all).\\n\\nThe words in order spelled out “One rule fall all rise us save many” another track gave us “Speak now or forever long for peace” another was “speak not the known, but the forgotten” and lastly “we equal salvation.”\\n\\n**John**: Speak not the known?\\n\\n**Me**: I mean, we only know so many words, maybe they knew that?\\n\\n**John**: So, what, you just start mumbling the words we don’t know the meaning to?\\n\\n**Me**: I guess?\\n\\nThat’s what I did.\\n\\nI want to spare you the sounds used, not because I think it is a boring, nonsensical detail, but because I regret uttering them, and I can’t in good conscious give others the details they need to piece this together. I need to take a moment to reach out to anyone who may be like me or John. Don’t be naïve. We aren’t “blessed” or gifted like John may try to make you believe. We are cursed with the worse possible plight of all, ignorance. We didn’t know what we were doing, and we didn’t know what would happen. That isn’t an excuse for anyone else now that we were stupid enough to do what we tried. Please heed our warning.\\n\\nWe uttered the sounds in unison, not sure if we were butchering them or even if it was what we were supposed to do. It didn’t take long, but the results were nearly instant. We summoned a “Forgotten.”\\n\\nIt was a black spooly mess with countless pits that must have been eyes that consisted of only dark pupils. Like tangled eels with leprosy. Its construction was that of Satan’s tangled ear pods. Looking at it made me sick, both because of how repulsive it was, but on a deeper level of my brain refusing to acknowledge that anything could look the way it did, move the way it did, communicate the way it did. It talked to us. Not in its language, not in ours. It imparted knowledge on to us the same as it has to John all these years. \\n\\nImages and knowledge filled our brains. These things we a slave race created by something far uglier than it. After a rebellion, they were imprisoned by having their atoms spread apart across time periods and locations. They whispered in the minds of artists across all of time, to slowly send out their message so that one day, once strong enough, they could continue what they started. \\n\\nThey had many names over the years preceding the war and will have many more in the time to come, but for now, they are Forgotten no more.'"
      ]
     },
     "execution_count": 111,
     "metadata": {},
     "output_type": "execute_result"
    }
   ],
   "source": [
    "df['selftext'][2]"
   ]
  },
  {
   "cell_type": "code",
   "execution_count": null,
   "metadata": {},
   "outputs": [],
   "source": []
  }
 ],
 "metadata": {
  "kernelspec": {
   "display_name": "Python 3",
   "language": "python",
   "name": "python3"
  },
  "language_info": {
   "codemirror_mode": {
    "name": "ipython",
    "version": 3
   },
   "file_extension": ".py",
   "mimetype": "text/x-python",
   "name": "python",
   "nbconvert_exporter": "python",
   "pygments_lexer": "ipython3",
   "version": "3.7.3"
  }
 },
 "nbformat": 4,
 "nbformat_minor": 2
}
